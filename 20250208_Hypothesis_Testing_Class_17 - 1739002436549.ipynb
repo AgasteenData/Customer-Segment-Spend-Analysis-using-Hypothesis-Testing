{
 "cells": [
  {
   "cell_type": "code",
   "execution_count": 1,
   "id": "a3004671",
   "metadata": {},
   "outputs": [],
   "source": [
    "# Importing the packages\n",
    "import numpy as np\n",
    "import pandas as pd\n",
    "import matplotlib.pyplot as plt\n",
    "import seaborn as sns\n",
    "import scipy.stats as stats  #for the statistical tests\n",
    "from scipy import stats as stats # Alternate of above\n",
    "%matplotlib inline"
   ]
  },
  {
   "cell_type": "code",
   "execution_count": 2,
   "id": "dd717c0c",
   "metadata": {},
   "outputs": [],
   "source": [
    "file_path = 'C://projects//alabs_python//date//input//'"
   ]
  },
  {
   "cell_type": "code",
   "execution_count": 3,
   "id": "a34467e6",
   "metadata": {},
   "outputs": [],
   "source": [
    "cus_seg = pd.read_csv(file_path + \"cust_seg.csv\")"
   ]
  },
  {
   "cell_type": "code",
   "execution_count": 4,
   "id": "19840574",
   "metadata": {},
   "outputs": [
    {
     "data": {
      "text/html": [
       "<div>\n",
       "<style scoped>\n",
       "    .dataframe tbody tr th:only-of-type {\n",
       "        vertical-align: middle;\n",
       "    }\n",
       "\n",
       "    .dataframe tbody tr th {\n",
       "        vertical-align: top;\n",
       "    }\n",
       "\n",
       "    .dataframe thead th {\n",
       "        text-align: right;\n",
       "    }\n",
       "</style>\n",
       "<table border=\"1\" class=\"dataframe\">\n",
       "  <thead>\n",
       "    <tr style=\"text-align: right;\">\n",
       "      <th></th>\n",
       "      <th>custid</th>\n",
       "      <th>sex</th>\n",
       "      <th>AqChannel</th>\n",
       "      <th>region</th>\n",
       "      <th>Marital_status</th>\n",
       "      <th>segment</th>\n",
       "      <th>pre_usage</th>\n",
       "      <th>Post_usage_1month</th>\n",
       "      <th>Latest_mon_usage</th>\n",
       "      <th>post_usage_2ndmonth</th>\n",
       "    </tr>\n",
       "  </thead>\n",
       "  <tbody>\n",
       "    <tr>\n",
       "      <th>0</th>\n",
       "      <td>70</td>\n",
       "      <td>0</td>\n",
       "      <td>4</td>\n",
       "      <td>1</td>\n",
       "      <td>1</td>\n",
       "      <td>1</td>\n",
       "      <td>57</td>\n",
       "      <td>52</td>\n",
       "      <td>49.2</td>\n",
       "      <td>57.2</td>\n",
       "    </tr>\n",
       "    <tr>\n",
       "      <th>1</th>\n",
       "      <td>121</td>\n",
       "      <td>1</td>\n",
       "      <td>4</td>\n",
       "      <td>2</td>\n",
       "      <td>1</td>\n",
       "      <td>3</td>\n",
       "      <td>68</td>\n",
       "      <td>59</td>\n",
       "      <td>63.6</td>\n",
       "      <td>64.9</td>\n",
       "    </tr>\n",
       "    <tr>\n",
       "      <th>2</th>\n",
       "      <td>86</td>\n",
       "      <td>0</td>\n",
       "      <td>4</td>\n",
       "      <td>3</td>\n",
       "      <td>1</td>\n",
       "      <td>1</td>\n",
       "      <td>44</td>\n",
       "      <td>33</td>\n",
       "      <td>64.8</td>\n",
       "      <td>36.3</td>\n",
       "    </tr>\n",
       "    <tr>\n",
       "      <th>3</th>\n",
       "      <td>141</td>\n",
       "      <td>0</td>\n",
       "      <td>4</td>\n",
       "      <td>3</td>\n",
       "      <td>1</td>\n",
       "      <td>3</td>\n",
       "      <td>63</td>\n",
       "      <td>44</td>\n",
       "      <td>56.4</td>\n",
       "      <td>48.4</td>\n",
       "    </tr>\n",
       "    <tr>\n",
       "      <th>4</th>\n",
       "      <td>172</td>\n",
       "      <td>0</td>\n",
       "      <td>4</td>\n",
       "      <td>2</td>\n",
       "      <td>1</td>\n",
       "      <td>2</td>\n",
       "      <td>47</td>\n",
       "      <td>52</td>\n",
       "      <td>68.4</td>\n",
       "      <td>57.2</td>\n",
       "    </tr>\n",
       "  </tbody>\n",
       "</table>\n",
       "</div>"
      ],
      "text/plain": [
       "   custid  sex  AqChannel  region  Marital_status  segment  pre_usage  \\\n",
       "0      70    0          4       1               1        1         57   \n",
       "1     121    1          4       2               1        3         68   \n",
       "2      86    0          4       3               1        1         44   \n",
       "3     141    0          4       3               1        3         63   \n",
       "4     172    0          4       2               1        2         47   \n",
       "\n",
       "   Post_usage_1month  Latest_mon_usage  post_usage_2ndmonth  \n",
       "0                 52              49.2                 57.2  \n",
       "1                 59              63.6                 64.9  \n",
       "2                 33              64.8                 36.3  \n",
       "3                 44              56.4                 48.4  \n",
       "4                 52              68.4                 57.2  "
      ]
     },
     "execution_count": 4,
     "metadata": {},
     "output_type": "execute_result"
    }
   ],
   "source": [
    "cus_seg.head()"
   ]
  },
  {
   "cell_type": "code",
   "execution_count": 17,
   "id": "6448c9cb-bf7e-427a-81ca-8ffc5b9c87dd",
   "metadata": {
    "scrolled": true
   },
   "outputs": [
    {
     "name": "stdout",
     "output_type": "stream",
     "text": [
      "                     count      mean        std   min     25%    50%     75%  \\\n",
      "custid               200.0  100.5000  57.879185   1.0  50.750  100.5  150.25   \n",
      "sex                  200.0    0.5450   0.499220   0.0   0.000    1.0    1.00   \n",
      "AqChannel            200.0    3.4300   1.039472   1.0   3.000    4.0    4.00   \n",
      "region               200.0    2.0550   0.724291   1.0   2.000    2.0    3.00   \n",
      "Marital_status       200.0    1.1600   0.367526   1.0   1.000    1.0    1.00   \n",
      "segment              200.0    2.0250   0.690477   1.0   2.000    2.0    2.25   \n",
      "pre_usage            200.0   52.2300  10.252937  28.0  44.000   50.0   60.00   \n",
      "Post_usage_1month    200.0   52.7750   9.478586  31.0  45.750   54.0   60.00   \n",
      "Latest_mon_usage     200.0   63.1740  11.242137  39.6  54.000   62.4   70.80   \n",
      "post_usage_2ndmonth  200.0   58.0525  10.426445  34.1  50.325   59.4   66.00   \n",
      "\n",
      "                       max  skewness  kurtosis  \n",
      "custid               200.0  0.000000 -1.200000  \n",
      "sex                    1.0 -0.182102 -1.986808  \n",
      "AqChannel              4.0 -1.587534  0.941371  \n",
      "region                 3.0 -0.083606 -1.079585  \n",
      "Marital_status         2.0  1.868898  1.507758  \n",
      "segment                3.0 -0.032670 -0.884492  \n",
      "pre_usage             76.0  0.196313 -0.622553  \n",
      "Post_usage_1month     67.0 -0.482039 -0.750248  \n",
      "Latest_mon_usage      90.0  0.286565 -0.648940  \n",
      "post_usage_2ndmonth   73.7 -0.482039 -0.750248  \n"
     ]
    }
   ],
   "source": [
    "dis_skew_kur = pd.concat([\n",
    "    cus_seg.describe().T,\n",
    "    cus_seg.skew().rename('skewness'),\n",
    "    cus_seg.kurtosis().rename('kurtosis')\n",
    "], axis=1)\n",
    "\n",
    "print(dis_skew_kur)"
   ]
  },
  {
   "cell_type": "code",
   "execution_count": 19,
   "id": "f91bebc1",
   "metadata": {},
   "outputs": [
    {
     "data": {
      "text/plain": [
       "(200, 10)"
      ]
     },
     "execution_count": 19,
     "metadata": {},
     "output_type": "execute_result"
    }
   ],
   "source": [
    "# Dimensions\n",
    "cus_seg.shape"
   ]
  },
  {
   "cell_type": "code",
   "execution_count": 21,
   "id": "317a45b5",
   "metadata": {
    "scrolled": true
   },
   "outputs": [
    {
     "name": "stdout",
     "output_type": "stream",
     "text": [
      "<class 'pandas.core.frame.DataFrame'>\n",
      "RangeIndex: 200 entries, 0 to 199\n",
      "Data columns (total 10 columns):\n",
      " #   Column               Non-Null Count  Dtype  \n",
      "---  ------               --------------  -----  \n",
      " 0   custid               200 non-null    int64  \n",
      " 1   sex                  200 non-null    int64  \n",
      " 2   AqChannel            200 non-null    int64  \n",
      " 3   region               200 non-null    int64  \n",
      " 4   Marital_status       200 non-null    int64  \n",
      " 5   segment              200 non-null    int64  \n",
      " 6   pre_usage            200 non-null    int64  \n",
      " 7   Post_usage_1month    200 non-null    int64  \n",
      " 8   Latest_mon_usage     200 non-null    float64\n",
      " 9   post_usage_2ndmonth  200 non-null    float64\n",
      "dtypes: float64(2), int64(8)\n",
      "memory usage: 15.8 KB\n"
     ]
    }
   ],
   "source": [
    "# Data types / Non Null Count\n",
    "cus_seg.info()"
   ]
  },
  {
   "cell_type": "code",
   "execution_count": 23,
   "id": "dfca7ac8",
   "metadata": {
    "scrolled": true
   },
   "outputs": [
    {
     "data": {
      "text/html": [
       "<div>\n",
       "<style scoped>\n",
       "    .dataframe tbody tr th:only-of-type {\n",
       "        vertical-align: middle;\n",
       "    }\n",
       "\n",
       "    .dataframe tbody tr th {\n",
       "        vertical-align: top;\n",
       "    }\n",
       "\n",
       "    .dataframe thead th {\n",
       "        text-align: right;\n",
       "    }\n",
       "</style>\n",
       "<table border=\"1\" class=\"dataframe\">\n",
       "  <thead>\n",
       "    <tr style=\"text-align: right;\">\n",
       "      <th></th>\n",
       "      <th>custid</th>\n",
       "      <th>sex</th>\n",
       "      <th>AqChannel</th>\n",
       "      <th>region</th>\n",
       "      <th>Marital_status</th>\n",
       "      <th>segment</th>\n",
       "      <th>pre_usage</th>\n",
       "      <th>Post_usage_1month</th>\n",
       "      <th>Latest_mon_usage</th>\n",
       "      <th>post_usage_2ndmonth</th>\n",
       "    </tr>\n",
       "  </thead>\n",
       "  <tbody>\n",
       "    <tr>\n",
       "      <th>count</th>\n",
       "      <td>200.000000</td>\n",
       "      <td>200.00000</td>\n",
       "      <td>200.000000</td>\n",
       "      <td>200.000000</td>\n",
       "      <td>200.000000</td>\n",
       "      <td>200.000000</td>\n",
       "      <td>200.000000</td>\n",
       "      <td>200.000000</td>\n",
       "      <td>200.000000</td>\n",
       "      <td>200.000000</td>\n",
       "    </tr>\n",
       "    <tr>\n",
       "      <th>mean</th>\n",
       "      <td>100.500000</td>\n",
       "      <td>0.54500</td>\n",
       "      <td>3.430000</td>\n",
       "      <td>2.055000</td>\n",
       "      <td>1.160000</td>\n",
       "      <td>2.025000</td>\n",
       "      <td>52.230000</td>\n",
       "      <td>52.775000</td>\n",
       "      <td>63.174000</td>\n",
       "      <td>58.052500</td>\n",
       "    </tr>\n",
       "    <tr>\n",
       "      <th>std</th>\n",
       "      <td>57.879185</td>\n",
       "      <td>0.49922</td>\n",
       "      <td>1.039472</td>\n",
       "      <td>0.724291</td>\n",
       "      <td>0.367526</td>\n",
       "      <td>0.690477</td>\n",
       "      <td>10.252937</td>\n",
       "      <td>9.478586</td>\n",
       "      <td>11.242137</td>\n",
       "      <td>10.426445</td>\n",
       "    </tr>\n",
       "    <tr>\n",
       "      <th>min</th>\n",
       "      <td>1.000000</td>\n",
       "      <td>0.00000</td>\n",
       "      <td>1.000000</td>\n",
       "      <td>1.000000</td>\n",
       "      <td>1.000000</td>\n",
       "      <td>1.000000</td>\n",
       "      <td>28.000000</td>\n",
       "      <td>31.000000</td>\n",
       "      <td>39.600000</td>\n",
       "      <td>34.100000</td>\n",
       "    </tr>\n",
       "    <tr>\n",
       "      <th>25%</th>\n",
       "      <td>50.750000</td>\n",
       "      <td>0.00000</td>\n",
       "      <td>3.000000</td>\n",
       "      <td>2.000000</td>\n",
       "      <td>1.000000</td>\n",
       "      <td>2.000000</td>\n",
       "      <td>44.000000</td>\n",
       "      <td>45.750000</td>\n",
       "      <td>54.000000</td>\n",
       "      <td>50.325000</td>\n",
       "    </tr>\n",
       "    <tr>\n",
       "      <th>50%</th>\n",
       "      <td>100.500000</td>\n",
       "      <td>1.00000</td>\n",
       "      <td>4.000000</td>\n",
       "      <td>2.000000</td>\n",
       "      <td>1.000000</td>\n",
       "      <td>2.000000</td>\n",
       "      <td>50.000000</td>\n",
       "      <td>54.000000</td>\n",
       "      <td>62.400000</td>\n",
       "      <td>59.400000</td>\n",
       "    </tr>\n",
       "    <tr>\n",
       "      <th>75%</th>\n",
       "      <td>150.250000</td>\n",
       "      <td>1.00000</td>\n",
       "      <td>4.000000</td>\n",
       "      <td>3.000000</td>\n",
       "      <td>1.000000</td>\n",
       "      <td>2.250000</td>\n",
       "      <td>60.000000</td>\n",
       "      <td>60.000000</td>\n",
       "      <td>70.800000</td>\n",
       "      <td>66.000000</td>\n",
       "    </tr>\n",
       "    <tr>\n",
       "      <th>max</th>\n",
       "      <td>200.000000</td>\n",
       "      <td>1.00000</td>\n",
       "      <td>4.000000</td>\n",
       "      <td>3.000000</td>\n",
       "      <td>2.000000</td>\n",
       "      <td>3.000000</td>\n",
       "      <td>76.000000</td>\n",
       "      <td>67.000000</td>\n",
       "      <td>90.000000</td>\n",
       "      <td>73.700000</td>\n",
       "    </tr>\n",
       "  </tbody>\n",
       "</table>\n",
       "</div>"
      ],
      "text/plain": [
       "           custid        sex   AqChannel      region  Marital_status  \\\n",
       "count  200.000000  200.00000  200.000000  200.000000      200.000000   \n",
       "mean   100.500000    0.54500    3.430000    2.055000        1.160000   \n",
       "std     57.879185    0.49922    1.039472    0.724291        0.367526   \n",
       "min      1.000000    0.00000    1.000000    1.000000        1.000000   \n",
       "25%     50.750000    0.00000    3.000000    2.000000        1.000000   \n",
       "50%    100.500000    1.00000    4.000000    2.000000        1.000000   \n",
       "75%    150.250000    1.00000    4.000000    3.000000        1.000000   \n",
       "max    200.000000    1.00000    4.000000    3.000000        2.000000   \n",
       "\n",
       "          segment   pre_usage  Post_usage_1month  Latest_mon_usage  \\\n",
       "count  200.000000  200.000000         200.000000        200.000000   \n",
       "mean     2.025000   52.230000          52.775000         63.174000   \n",
       "std      0.690477   10.252937           9.478586         11.242137   \n",
       "min      1.000000   28.000000          31.000000         39.600000   \n",
       "25%      2.000000   44.000000          45.750000         54.000000   \n",
       "50%      2.000000   50.000000          54.000000         62.400000   \n",
       "75%      2.250000   60.000000          60.000000         70.800000   \n",
       "max      3.000000   76.000000          67.000000         90.000000   \n",
       "\n",
       "       post_usage_2ndmonth  \n",
       "count           200.000000  \n",
       "mean             58.052500  \n",
       "std              10.426445  \n",
       "min              34.100000  \n",
       "25%              50.325000  \n",
       "50%              59.400000  \n",
       "75%              66.000000  \n",
       "max              73.700000  "
      ]
     },
     "execution_count": 23,
     "metadata": {},
     "output_type": "execute_result"
    }
   ],
   "source": [
    "# Five Point Summary\n",
    "cus_seg.describe()"
   ]
  },
  {
   "cell_type": "code",
   "execution_count": 25,
   "id": "5a75e938",
   "metadata": {},
   "outputs": [],
   "source": [
    "### Q1: 1-sample ttest\n",
    "\n",
    "# Population mean 50 with sample of 200 customer mean\n",
    "\n",
    "# One Sample T- Test - Pop mean vs Sample Mean\n",
    "\n",
    "# Defining the hypothesis\n",
    "# H0 : Sample mean is less than or equal to Population mean\n",
    "# Ha: Sample mean is greater than population mean\n",
    "\n",
    "\n",
    "# CI: 99%, p/alpha: 0.01"
   ]
  },
  {
   "cell_type": "code",
   "execution_count": 27,
   "id": "96a002ce",
   "metadata": {},
   "outputs": [
    {
     "name": "stdout",
     "output_type": "stream",
     "text": [
      "popmean:  50 | sample mean:  52.775\n"
     ]
    }
   ],
   "source": [
    "# sample to be considered\n",
    "# Exploration - No Hypothesis Testing \n",
    "var_name = 'Post_usage_1month'\n",
    "\n",
    "# mean values to be compared\n",
    "pop_mean = 50\n",
    "sample = cus_seg.loc[:, var_name]\n",
    "mean_sample = sample.mean()\n",
    "\n",
    "# display the means\n",
    "print('popmean: ', pop_mean, '| sample mean: ', mean_sample )"
   ]
  },
  {
   "cell_type": "code",
   "execution_count": 29,
   "id": "0f25fe41",
   "metadata": {},
   "outputs": [
    {
     "data": {
      "text/plain": [
       "TtestResult(statistic=4.140324966963025, pvalue=5.1209194607163335e-05, df=199)"
      ]
     },
     "execution_count": 29,
     "metadata": {},
     "output_type": "execute_result"
    }
   ],
   "source": [
    "# perform the test\n",
    "stats.ttest_1samp(a = sample, popmean = pop_mean)"
   ]
  },
  {
   "cell_type": "code",
   "execution_count": 31,
   "id": "68542368",
   "metadata": {},
   "outputs": [],
   "source": [
    "# Conclusion:\n",
    "# We reject null hypothesis and establish the alternate\n",
    "\n",
    "# There is a increase in spend value in post usagew 1 month compared to last average value 50"
   ]
  },
  {
   "cell_type": "code",
   "execution_count": 33,
   "id": "df7e6759",
   "metadata": {},
   "outputs": [],
   "source": [
    "# Q2.\n",
    "\n",
    "# Set up the Hypothesis\n",
    "\n",
    "# Ho: post compaign <= pre campaign\n",
    "# Ha: post campaing > pre campaign\n",
    "\n",
    "\n",
    "# Define Test and CI and Alpha value\n",
    "\n",
    "# T- Test- Two sample dependent Test\n",
    "# 1 Tail (+)\n",
    "\n",
    "# CI - 95% . aplha - 0.05"
   ]
  },
  {
   "cell_type": "code",
   "execution_count": 35,
   "id": "30593752",
   "metadata": {},
   "outputs": [
    {
     "name": "stdout",
     "output_type": "stream",
     "text": [
      "pre usage mean: 52.23\n",
      "post usage mean: 58.0525\n"
     ]
    }
   ],
   "source": [
    "# Exploration\n",
    "\n",
    "# declare the post campaighn analysis variable for consideration\n",
    "\n",
    "# print the means\n",
    "print('pre usage mean:', cus_seg.pre_usage.mean())\n",
    "print( 'post usage mean:', cus_seg.post_usage_2ndmonth.mean() )"
   ]
  },
  {
   "cell_type": "code",
   "execution_count": 37,
   "id": "70aabc57",
   "metadata": {},
   "outputs": [],
   "source": [
    "pre = cus_seg.pre_usage\n",
    "post =  cus_seg.post_usage_2ndmonth"
   ]
  },
  {
   "cell_type": "code",
   "execution_count": 39,
   "id": "f5f9a27a",
   "metadata": {},
   "outputs": [
    {
     "data": {
      "text/plain": [
       "TtestResult(statistic=-8.866832246938742, pvalue=4.295733828012836e-16, df=199)"
      ]
     },
     "execution_count": 39,
     "metadata": {},
     "output_type": "execute_result"
    }
   ],
   "source": [
    "stats.ttest_rel(pre, post)"
   ]
  },
  {
   "cell_type": "code",
   "execution_count": 41,
   "id": "21cab1d3",
   "metadata": {},
   "outputs": [],
   "source": [
    "# Conclude\n",
    "# p_value is less than alpha (0.05)\n",
    "# We establish Alternate Hypothesis and reject Null Hypothesis\n",
    "\n",
    "# Yes the spend has significantly improved over pre campaign spends"
   ]
  },
  {
   "cell_type": "code",
   "execution_count": 43,
   "id": "0e5836a7",
   "metadata": {},
   "outputs": [],
   "source": [
    "#Mean(M) Mean(F)"
   ]
  },
  {
   "cell_type": "code",
   "execution_count": 45,
   "id": "6f322019",
   "metadata": {},
   "outputs": [],
   "source": [
    "# Q3\n",
    "\n",
    "# Defining the Hypothesis\n",
    "# Ho : Mean(M) = Mean(F)\n",
    "# Ha: Mean(M)<> Mean(F)\n",
    "\n",
    "# Test, CI - 97%, aplha - 0.03\n",
    "\n"
   ]
  },
  {
   "cell_type": "code",
   "execution_count": 47,
   "id": "20622701",
   "metadata": {},
   "outputs": [
    {
     "name": "stdout",
     "output_type": "stream",
     "text": [
      "mean spend of male: 50.120879120879124\n",
      "mean spend of female: 54.99082568807339\n"
     ]
    }
   ],
   "source": [
    "# take the two samples\n",
    "var_name = 'Post_usage_1month'\n",
    "male = cus_seg.loc[ cus_seg.sex == 0, var_name ]\n",
    "female = cus_seg.loc[ cus_seg.sex == 1, var_name ]\n",
    "\n",
    "# display the mean usages\n",
    "print('mean spend of male:', male.mean() )\n",
    "print('mean spend of female:', female.mean() )"
   ]
  },
  {
   "cell_type": "code",
   "execution_count": 49,
   "id": "c6b05e1f",
   "metadata": {},
   "outputs": [
    {
     "data": {
      "text/plain": [
       "TtestResult(statistic=-3.7340738531536797, pvalue=0.00024625461203549315, df=198.0)"
      ]
     },
     "execution_count": 49,
     "metadata": {},
     "output_type": "execute_result"
    }
   ],
   "source": [
    "# Run the test\n",
    "stats.ttest_ind(a = male, b = female)"
   ]
  },
  {
   "cell_type": "code",
   "execution_count": null,
   "id": "33b00a86",
   "metadata": {},
   "outputs": [],
   "source": [
    "# Conclude\n",
    "# We establish alternate hypothesis reject Null Hypothesis\n",
    "\n",
    "# Concluded : Spends are signigicant among male and female groups"
   ]
  },
  {
   "cell_type": "code",
   "execution_count": 51,
   "id": "4d55e82d",
   "metadata": {},
   "outputs": [
    {
     "data": {
      "text/plain": [
       "array([1, 3, 2], dtype=int64)"
      ]
     },
     "execution_count": 51,
     "metadata": {},
     "output_type": "execute_result"
    }
   ],
   "source": [
    "cus_seg['segment'].unique()"
   ]
  },
  {
   "cell_type": "code",
   "execution_count": null,
   "id": "1cf1fe5b",
   "metadata": {},
   "outputs": [],
   "source": [
    "# ANOVA (Analysis of Variance)\n",
    "# Testing - to understand the difference in means among groups > 2\n",
    "\n",
    "# Ho: Groups are having equal mean (They are from same distrubtion)\n",
    "# Ha: Group are different (are not having equal mean) (They are from different distribution)"
   ]
  },
  {
   "cell_type": "code",
   "execution_count": null,
   "id": "3fa59576",
   "metadata": {},
   "outputs": [],
   "source": [
    "# Q4\n",
    "# Ho: All segments have same means\n",
    "# Ha: Segement have different means"
   ]
  },
  {
   "cell_type": "code",
   "execution_count": null,
   "id": "7aadbcb8",
   "metadata": {},
   "outputs": [],
   "source": [
    "# CI - 96% , alpha value - 0.04"
   ]
  },
  {
   "cell_type": "code",
   "execution_count": 20,
   "id": "58ede3d1",
   "metadata": {},
   "outputs": [
    {
     "name": "stdout",
     "output_type": "stream",
     "text": [
      "mean of s1:  60.02666666666667 | mean of s2:  68.08 | mean of s3:  55.70399999999999\n"
     ]
    }
   ],
   "source": [
    "# declare the variable for which we want to do the analysis\n",
    "var = 'Latest_mon_usage'\n",
    "\n",
    "# filter the data based on segments\n",
    "s1 = cus_seg.loc[ cus_seg.segment == 1, var ]\n",
    "s2 = cus_seg.loc[ cus_seg.segment == 2, var ]\n",
    "s3 = cus_seg.loc[ cus_seg.segment == 3, var ]\n",
    "\n",
    "# display the mean of the three sample\n",
    "print( 'mean of s1: ', s1.mean(), '| mean of s2: ', s2.mean(), '| mean of s3: ', s3.mean() )"
   ]
  },
  {
   "cell_type": "code",
   "execution_count": 22,
   "id": "2fac2755",
   "metadata": {},
   "outputs": [],
   "source": [
    "#ANOVA - One way and Two Way"
   ]
  },
  {
   "cell_type": "code",
   "execution_count": 24,
   "id": "ab2eb81b",
   "metadata": {},
   "outputs": [
    {
     "data": {
      "text/plain": [
       "F_onewayResult(statistic=29.279283801321778, pvalue=7.36401083352674e-12)"
      ]
     },
     "execution_count": 24,
     "metadata": {},
     "output_type": "execute_result"
    }
   ],
   "source": [
    "stats.f_oneway(s1,s2,s3)"
   ]
  },
  {
   "cell_type": "code",
   "execution_count": 26,
   "id": "66f02cbd",
   "metadata": {},
   "outputs": [],
   "source": [
    "# Conclude\n",
    "# we establish Alternate hypothesis and reject Null Hypothesis\n",
    "\n",
    "# Segments are different to each other"
   ]
  },
  {
   "cell_type": "code",
   "execution_count": 28,
   "id": "51c8409c",
   "metadata": {},
   "outputs": [],
   "source": [
    "# Template for Chisquare\n",
    "\n",
    "# Ha: Variables are indepedent\n",
    "# Ho: Variables are related\n",
    "\n",
    "# CHisquare value, p_value"
   ]
  },
  {
   "cell_type": "code",
   "execution_count": 30,
   "id": "cac1d712",
   "metadata": {},
   "outputs": [],
   "source": [
    "# Q5\n",
    "\n",
    "# Ho: Region and Segment are independent\n",
    "\n",
    "#Ha: Region and segment are related to each other"
   ]
  },
  {
   "cell_type": "code",
   "execution_count": 32,
   "id": "bd2eab49",
   "metadata": {},
   "outputs": [],
   "source": [
    "# CI = 95% , alpha - 0.05"
   ]
  },
  {
   "cell_type": "code",
   "execution_count": 34,
   "id": "3ca6374e",
   "metadata": {},
   "outputs": [
    {
     "data": {
      "text/html": [
       "<div>\n",
       "<style scoped>\n",
       "    .dataframe tbody tr th:only-of-type {\n",
       "        vertical-align: middle;\n",
       "    }\n",
       "\n",
       "    .dataframe tbody tr th {\n",
       "        vertical-align: top;\n",
       "    }\n",
       "\n",
       "    .dataframe thead th {\n",
       "        text-align: right;\n",
       "    }\n",
       "</style>\n",
       "<table border=\"1\" class=\"dataframe\">\n",
       "  <thead>\n",
       "    <tr style=\"text-align: right;\">\n",
       "      <th>segment</th>\n",
       "      <th>1</th>\n",
       "      <th>2</th>\n",
       "      <th>3</th>\n",
       "    </tr>\n",
       "    <tr>\n",
       "      <th>region</th>\n",
       "      <th></th>\n",
       "      <th></th>\n",
       "      <th></th>\n",
       "    </tr>\n",
       "  </thead>\n",
       "  <tbody>\n",
       "    <tr>\n",
       "      <th>1</th>\n",
       "      <td>16</td>\n",
       "      <td>19</td>\n",
       "      <td>12</td>\n",
       "    </tr>\n",
       "    <tr>\n",
       "      <th>2</th>\n",
       "      <td>20</td>\n",
       "      <td>44</td>\n",
       "      <td>31</td>\n",
       "    </tr>\n",
       "    <tr>\n",
       "      <th>3</th>\n",
       "      <td>9</td>\n",
       "      <td>42</td>\n",
       "      <td>7</td>\n",
       "    </tr>\n",
       "  </tbody>\n",
       "</table>\n",
       "</div>"
      ],
      "text/plain": [
       "segment   1   2   3\n",
       "region             \n",
       "1        16  19  12\n",
       "2        20  44  31\n",
       "3         9  42   7"
      ]
     },
     "execution_count": 34,
     "metadata": {},
     "output_type": "execute_result"
    }
   ],
   "source": [
    "# get the ob_freq_table from the dataset\n",
    "obs_freq = pd.crosstab( cus_seg.region, cus_seg.segment )\n",
    "obs_freq"
   ]
  },
  {
   "cell_type": "code",
   "execution_count": 36,
   "id": "837bf13a",
   "metadata": {},
   "outputs": [
    {
     "name": "stdout",
     "output_type": "stream",
     "text": [
      "Chi2ContingencyResult(statistic=16.604441649489342, pvalue=0.0023066300908054713, dof=4, expected_freq=array([[10.575, 24.675, 11.75 ],\n",
      "       [21.375, 49.875, 23.75 ],\n",
      "       [13.05 , 30.45 , 14.5  ]]))\n"
     ]
    }
   ],
   "source": [
    "print(stats.chi2_contingency(obs_freq))"
   ]
  },
  {
   "cell_type": "code",
   "execution_count": 38,
   "id": "a47829f5-ad1c-4420-8124-dda9f3573236",
   "metadata": {},
   "outputs": [
    {
     "name": "stdout",
     "output_type": "stream",
     "text": [
      "Reject the Null Hypothesis\n"
     ]
    }
   ],
   "source": [
    "pvalue=0.0023066300908054713\n",
    "if pvalue < 0.05:\n",
    "    print('Reject the Null Hypothesis')\n",
    "else:\n",
    "    print('Fail to Reject the Null Hypothsis')"
   ]
  },
  {
   "cell_type": "code",
   "execution_count": 38,
   "id": "3dfd3564",
   "metadata": {},
   "outputs": [],
   "source": [
    "# Conclude\n",
    "# We establish Alternate Hypothesis and reject Null Hypothesis\n",
    "# Yes, there is relationship between region and segment"
   ]
  },
  {
   "cell_type": "code",
   "execution_count": 42,
   "id": "c3890e78",
   "metadata": {},
   "outputs": [
    {
     "data": {
      "text/plain": [
       "custid                   int64\n",
       "sex                      int64\n",
       "AqChannel                int64\n",
       "region                   int64\n",
       "Marital_status           int64\n",
       "segment                  int64\n",
       "pre_usage                int64\n",
       "Post_usage_1month        int64\n",
       "Latest_mon_usage       float64\n",
       "post_usage_2ndmonth    float64\n",
       "dtype: object"
      ]
     },
     "execution_count": 42,
     "metadata": {},
     "output_type": "execute_result"
    }
   ],
   "source": [
    "cus_seg.dtypes"
   ]
  },
  {
   "cell_type": "code",
   "execution_count": null,
   "id": "145a466c",
   "metadata": {},
   "outputs": [],
   "source": [
    "# Relationship between two numerical variables \n",
    "# preusage vs Latest_mon_usage"
   ]
  },
  {
   "cell_type": "code",
   "execution_count": 43,
   "id": "a4160b5a",
   "metadata": {},
   "outputs": [],
   "source": [
    "# Correlation"
   ]
  },
  {
   "cell_type": "code",
   "execution_count": 45,
   "id": "af8011d3",
   "metadata": {},
   "outputs": [
    {
     "data": {
      "text/html": [
       "<div>\n",
       "<style scoped>\n",
       "    .dataframe tbody tr th:only-of-type {\n",
       "        vertical-align: middle;\n",
       "    }\n",
       "\n",
       "    .dataframe tbody tr th {\n",
       "        vertical-align: top;\n",
       "    }\n",
       "\n",
       "    .dataframe thead th {\n",
       "        text-align: right;\n",
       "    }\n",
       "</style>\n",
       "<table border=\"1\" class=\"dataframe\">\n",
       "  <thead>\n",
       "    <tr style=\"text-align: right;\">\n",
       "      <th></th>\n",
       "      <th>pre_usage</th>\n",
       "      <th>Latest_mon_usage</th>\n",
       "    </tr>\n",
       "  </thead>\n",
       "  <tbody>\n",
       "    <tr>\n",
       "      <th>pre_usage</th>\n",
       "      <td>1.00000</td>\n",
       "      <td>0.66228</td>\n",
       "    </tr>\n",
       "    <tr>\n",
       "      <th>Latest_mon_usage</th>\n",
       "      <td>0.66228</td>\n",
       "      <td>1.00000</td>\n",
       "    </tr>\n",
       "  </tbody>\n",
       "</table>\n",
       "</div>"
      ],
      "text/plain": [
       "                  pre_usage  Latest_mon_usage\n",
       "pre_usage           1.00000           0.66228\n",
       "Latest_mon_usage    0.66228           1.00000"
      ]
     },
     "execution_count": 45,
     "metadata": {},
     "output_type": "execute_result"
    }
   ],
   "source": [
    "cus_seg[['pre_usage','Latest_mon_usage']]\n",
    "cus_seg[['pre_usage','Latest_mon_usage']].corr()"
   ]
  },
  {
   "cell_type": "code",
   "execution_count": 46,
   "id": "36c3d058",
   "metadata": {},
   "outputs": [],
   "source": [
    "# Positively correlation - Moderate"
   ]
  },
  {
   "cell_type": "code",
   "execution_count": 63,
   "id": "2c8c2d73-8072-42a5-a1ee-893900996d39",
   "metadata": {},
   "outputs": [
    {
     "data": {
      "image/png": "[encoded data removed]",
      "text/plain": [
       "<Figure size 640x480 with 2 Axes>"
      ]
     },
     "metadata": {},
     "output_type": "display_data"
    }
   ],
   "source": [
    "# Compute the correlation matrix for the selected columns\n",
    "corr_matrix = cus_seg[['pre_usage', 'Latest_mon_usage']].corr()\n",
    "\n",
    "# Plot heatmap\n",
    "sns.heatmap(data=corr_matrix, annot=True, cmap='coolwarm', fmt=\".2f\")\n",
    "plt.title(\"Correlation Heatmap\")\n",
    "plt.show()"
   ]
  },
  {
   "cell_type": "code",
   "execution_count": 49,
   "id": "2d3e7c12",
   "metadata": {},
   "outputs": [
    {
     "data": {
      "text/plain": [
       "Text(0, 0.5, 'Latest_mon_usage')"
      ]
     },
     "execution_count": 49,
     "metadata": {},
     "output_type": "execute_result"
    },
    {
     "data": {
      "image/png": "[encoded data removed]",
      "text/plain": [
       "<Figure size 432x288 with 1 Axes>"
      ]
     },
     "metadata": {
      "needs_background": "light"
     },
     "output_type": "display_data"
    }
   ],
   "source": [
    "plt.scatter(x =cus_seg['pre_usage'] , y = cus_seg['Latest_mon_usage'])\n",
    "plt.xlabel(cus_seg['pre_usage'].name)\n",
    "plt.ylabel(cus_seg['Latest_mon_usage'].name)"
   ]
  },
  {
   "cell_type": "code",
   "execution_count": 50,
   "id": "dac0ae5a",
   "metadata": {},
   "outputs": [],
   "source": [
    "# End of the notebook"
   ]
  }
 ],
 "metadata": {
  "kernelspec": {
   "display_name": "Python [conda env:base] *",
   "language": "python",
   "name": "conda-base-py"
  },
  "language_info": {
   "codemirror_mode": {
    "name": "ipython",
    "version": 3
   },
   "file_extension": ".py",
   "mimetype": "text/x-python",
   "name": "python",
   "nbconvert_exporter": "python",
   "pygments_lexer": "ipython3",
   "version": "3.12.7"
  }
 },
 "nbformat": 4,
 "nbformat_minor": 5
}
