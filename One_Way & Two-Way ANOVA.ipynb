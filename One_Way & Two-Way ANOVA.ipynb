{
 "cells": [
  {
   "cell_type": "code",
   "execution_count": 42,
   "id": "0f01bb60-b934-4368-b704-e866c7f0ed1d",
   "metadata": {},
   "outputs": [],
   "source": [
    "import numpy as np\n",
    "import pandas as pd\n",
    "\n",
    "import scipy.stats as stats\n",
    "\n",
    "import statsmodels.api as sm\n",
    "from statsmodels.formula.api import ols"
   ]
  },
  {
   "cell_type": "markdown",
   "id": "aba9f8b2-80c5-4d56-9c4f-4a2ad3e9ab3e",
   "metadata": {},
   "source": [
    "# One Way Anova"
   ]
  },
  {
   "cell_type": "code",
   "execution_count": 14,
   "id": "d212a1ec-3aa5-45ba-9768-b06120edb7fd",
   "metadata": {},
   "outputs": [],
   "source": [
    "data = {\n",
    "    \"Store\": [\"A\", \"A\", \"A\", \"B\", \"B\", \"B\", \"C\", \"C\", \"C\"],\n",
    "    \"Sales\": [200, 220, 215, 250, 260, 255, 230, 225, 240]\n",
    "}"
   ]
  },
  {
   "cell_type": "code",
   "execution_count": 16,
   "id": "4d9117fe-b3d8-40db-9b98-612e35a316b6",
   "metadata": {},
   "outputs": [],
   "source": [
    "df1 = pd.DataFrame(data)"
   ]
  },
  {
   "cell_type": "code",
   "execution_count": 34,
   "id": "44f91623-5157-4e31-94ad-34022f1c4596",
   "metadata": {},
   "outputs": [],
   "source": [
    "Store_A = df1.loc[df1['Store'] == 'A', ['Sales']]\n",
    "Store_B = df1.loc[df1['Store'] == 'B', ['Sales']]\n",
    "Store_C = df1.loc[df1['Store'] == 'C', ['Sales']]"
   ]
  },
  {
   "cell_type": "code",
   "execution_count": 36,
   "id": "991fc4f6-df67-4241-9446-943bb3f5620f",
   "metadata": {},
   "outputs": [
    {
     "name": "stdout",
     "output_type": "stream",
     "text": [
      "   Sales\n",
      "0    200\n",
      "1    220\n",
      "2    215 \n",
      "\n",
      "   Sales\n",
      "3    250\n",
      "4    260\n",
      "5    255 \n",
      "\n",
      "   Sales\n",
      "6    230\n",
      "7    225\n",
      "8    240 \n",
      "\n"
     ]
    }
   ],
   "source": [
    "print(Store_A, '\\n')\n",
    "print(Store_B, '\\n')\n",
    "print(Store_C, '\\n')"
   ]
  },
  {
   "cell_type": "code",
   "execution_count": 48,
   "id": "82669354-70fc-4899-97d6-8d36731813a5",
   "metadata": {},
   "outputs": [],
   "source": [
    "# Perform One-Way ANOVA\n",
    "f_statistic, p_value = stats.f_oneway(Store_A, Store_B, Store_C)"
   ]
  },
  {
   "cell_type": "code",
   "execution_count": 50,
   "id": "d4d3b388-bd6b-43e6-ab4e-9f866f412795",
   "metadata": {},
   "outputs": [
    {
     "name": "stdout",
     "output_type": "stream",
     "text": [
      "f_statistic: [22.08695652] | p_value: [0.00171009]\n"
     ]
    }
   ],
   "source": [
    "print(f\"f_statistic: {f_statistic} | p_value: {p_value}\")"
   ]
  },
  {
   "cell_type": "code",
   "execution_count": 54,
   "id": "d589a3e7-6950-4313-9741-a8aa1f8c1a96",
   "metadata": {},
   "outputs": [
    {
     "name": "stdout",
     "output_type": "stream",
     "text": [
      "There is a significant difference between at least one pair of stores.\n"
     ]
    }
   ],
   "source": [
    "# Interpretation\n",
    "if p_value < 0.05:\n",
    "    print(\"There is a significant difference between at least one pair of stores.\")\n",
    "else:\n",
    "    print(\"No significant difference in sales between stores.\")"
   ]
  },
  {
   "cell_type": "markdown",
   "id": "42f167e2-2c03-45f4-90f4-7231dcda95c0",
   "metadata": {},
   "source": [
    "# Two Way Anova"
   ]
  },
  {
   "cell_type": "code",
   "execution_count": 46,
   "id": "4cb81827-e3e7-44e7-8d9a-3b78a6424291",
   "metadata": {},
   "outputs": [],
   "source": [
    "data = {\n",
    "    \"Store\": [\"A\", \"A\", \"A\", \"B\", \"B\", \"B\", \"C\", \"C\", \"C\"],\n",
    "    \"Ad_Type\": [\"Online\", \"Offline\", \"Online\", \"Online\", \"Offline\", \"Online\", \"Offline\", \"Online\", \"Offline\"],\n",
    "    \"Sales\": [200, 220, 210, 250, 265, 255, 230, 225, 240]\n",
    "}"
   ]
  },
  {
   "cell_type": "code",
   "execution_count": 8,
   "id": "8d061244-0609-4f56-ab7d-bd179bdea38c",
   "metadata": {},
   "outputs": [],
   "source": [
    "df = pd.DataFrame(data)"
   ]
  },
  {
   "cell_type": "code",
   "execution_count": 12,
   "id": "9d4e5a63-7584-4a6a-830c-d211df6bd481",
   "metadata": {
    "scrolled": true
   },
   "outputs": [
    {
     "data": {
      "text/html": [
       "<div>\n",
       "<style scoped>\n",
       "    .dataframe tbody tr th:only-of-type {\n",
       "        vertical-align: middle;\n",
       "    }\n",
       "\n",
       "    .dataframe tbody tr th {\n",
       "        vertical-align: top;\n",
       "    }\n",
       "\n",
       "    .dataframe thead th {\n",
       "        text-align: right;\n",
       "    }\n",
       "</style>\n",
       "<table border=\"1\" class=\"dataframe\">\n",
       "  <thead>\n",
       "    <tr style=\"text-align: right;\">\n",
       "      <th></th>\n",
       "      <th>Store</th>\n",
       "      <th>Ad_Type</th>\n",
       "      <th>Sales</th>\n",
       "    </tr>\n",
       "  </thead>\n",
       "  <tbody>\n",
       "    <tr>\n",
       "      <th>0</th>\n",
       "      <td>A</td>\n",
       "      <td>Online</td>\n",
       "      <td>200</td>\n",
       "    </tr>\n",
       "    <tr>\n",
       "      <th>1</th>\n",
       "      <td>A</td>\n",
       "      <td>Offline</td>\n",
       "      <td>220</td>\n",
       "    </tr>\n",
       "    <tr>\n",
       "      <th>2</th>\n",
       "      <td>A</td>\n",
       "      <td>Online</td>\n",
       "      <td>210</td>\n",
       "    </tr>\n",
       "    <tr>\n",
       "      <th>3</th>\n",
       "      <td>B</td>\n",
       "      <td>Online</td>\n",
       "      <td>250</td>\n",
       "    </tr>\n",
       "    <tr>\n",
       "      <th>4</th>\n",
       "      <td>B</td>\n",
       "      <td>Offline</td>\n",
       "      <td>265</td>\n",
       "    </tr>\n",
       "  </tbody>\n",
       "</table>\n",
       "</div>"
      ],
      "text/plain": [
       "  Store  Ad_Type  Sales\n",
       "0     A   Online    200\n",
       "1     A  Offline    220\n",
       "2     A   Online    210\n",
       "3     B   Online    250\n",
       "4     B  Offline    265"
      ]
     },
     "execution_count": 12,
     "metadata": {},
     "output_type": "execute_result"
    }
   ],
   "source": [
    "df.head()"
   ]
  },
  {
   "cell_type": "code",
   "execution_count": 64,
   "id": "91d6f197-6b0a-49dd-a53f-a66890869449",
   "metadata": {},
   "outputs": [
    {
     "data": {
      "text/plain": [
       "'Sales ~ C(Store) + C(Ad_Type) + C(Store):C(Ad_Type)'"
      ]
     },
     "execution_count": 64,
     "metadata": {},
     "output_type": "execute_result"
    }
   ],
   "source": [
    "fomula = \"Sales ~ C(Store) + C(Ad_Type) + C(Store):C(Ad_Type)\"\n",
    "fomula"
   ]
  },
  {
   "cell_type": "code",
   "execution_count": 60,
   "id": "c1e0b717-d425-42f7-ae6c-5ff1ac266e43",
   "metadata": {},
   "outputs": [
    {
     "name": "stdout",
     "output_type": "stream",
     "text": [
      "                          sum_sq   df          F    PR(>F)\n",
      "C(Store)             3327.916667  2.0  44.372222  0.005913\n",
      "C(Ad_Type)            312.500000  1.0   8.333333  0.063180\n",
      "C(Store):C(Ad_Type)     8.333333  2.0   0.111111  0.898356\n",
      "Residual              112.500000  3.0        NaN       NaN\n"
     ]
    }
   ],
   "source": [
    "# Categorical variables are wrapped in C() to indicate that they are not numeric but categorical.\n",
    "#💡 The interaction effect (C(Store):C(Ad_Type)) tells us if the impact of Ad Type depends on the Store.\n",
    "\n",
    "model = ols(\"Sales ~ C(Store) + C(Ad_Type) + C(Store):C(Ad_Type)\", data=df).fit()\n",
    "\n",
    "anova_table = sm.stats.anova_lm(model, typ=2)\n",
    "\n",
    "print(anova_table)"
   ]
  },
  {
   "cell_type": "raw",
   "id": "e8a53352-129a-4458-92e0-84f215855c6c",
   "metadata": {},
   "source": [
    "How to Interpret the Results?\n",
    "P-value < 0.05 → Significant effect (factor influences sales).\n",
    "F-value → Higher values indicate stronger effects.\n",
    "Interaction Effect (Store:Ad_Type):\n",
    "If significant, the effect of Ad Type changes depending on Store.\n",
    "If not significant, Ad Type affects all Stores similarly."
   ]
  },
  {
   "cell_type": "code",
   "execution_count": null,
   "id": "330ecc83-73ba-4f33-ab61-d4ad4a5a42ad",
   "metadata": {},
   "outputs": [],
   "source": []
  }
 ],
 "metadata": {
  "kernelspec": {
   "display_name": "Python [conda env:base] *",
   "language": "python",
   "name": "conda-base-py"
  },
  "language_info": {
   "codemirror_mode": {
    "name": "ipython",
    "version": 3
   },
   "file_extension": ".py",
   "mimetype": "text/x-python",
   "name": "python",
   "nbconvert_exporter": "python",
   "pygments_lexer": "ipython3",
   "version": "3.12.7"
  }
 },
 "nbformat": 4,
 "nbformat_minor": 5
}
